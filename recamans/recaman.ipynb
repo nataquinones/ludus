{
 "cells": [
  {
   "cell_type": "markdown",
   "metadata": {},
   "source": [
    "# Recamán's Sequence"
   ]
  },
  {
   "cell_type": "markdown",
   "metadata": {},
   "source": [
    "## About\n",
    "Generates Recamán's sequence and draws Edmund Harriss' diagram as shown in in [Numberphile's video](https://www.youtube.com/watch?v=FGC5TdIiT9U).\n",
    "\n",
    "**Sequence:**\n",
    "$$\\begin{equation}\n",
    "  a_n=\\begin{cases}\n",
    "    a_{n-1} - n, & \\text{if $a_{n-1} - n > 0$ and is new},\\\\\n",
    "    a_{n-1} + n, & \\text{otherwise}.\n",
    "  \\end{cases}\n",
    "\\end{equation}\n",
    "$$\n",
    "(from [Wolfram MathWorld](http://mathworld.wolfram.com/RecamansSequence.html) )"
   ]
  },
  {
   "cell_type": "markdown",
   "metadata": {},
   "source": [
    "# Requirements\n",
    "- ``Jupyter`` with ``python 3.6``\n",
    "- [``drawSvg 1.0.2``](https://pypi.org/project/drawSvg/)\n",
    "- [``cairo 1.14.12``](http://brewformulas.org/Cairo)"
   ]
  },
  {
   "cell_type": "code",
   "execution_count": 1,
   "metadata": {},
   "outputs": [],
   "source": [
    "from IPython.display import Image\n",
    "import drawSvg as draw"
   ]
  },
  {
   "cell_type": "markdown",
   "metadata": {},
   "source": [
    "## Functions"
   ]
  },
  {
   "cell_type": "code",
   "execution_count": 2,
   "metadata": {},
   "outputs": [],
   "source": [
    "def recaman_seq(n):\n",
    "    '''\n",
    "    '''\n",
    "    seq = [0]\n",
    "    \n",
    "    for i in range(1, n+1):\n",
    "        # get last element of sequence\n",
    "        a_i = seq[-1]\n",
    "        \n",
    "        # go back by i,\n",
    "        # if the result is larger than 0 and\n",
    "        # it is not already in sequence\n",
    "        if (a_i - i >= 0 and a_i - i not in seq):\n",
    "            a_i = a_i - i\n",
    "        \n",
    "        # else, go forward by i\n",
    "        else:\n",
    "            a_i = a_i + i\n",
    "        seq.append(a_i)\n",
    "    \n",
    "    return seq"
   ]
  },
  {
   "cell_type": "code",
   "execution_count": 11,
   "metadata": {},
   "outputs": [],
   "source": [
    "def draw_recaman_circle(n):\n",
    "    seq = recaman_seq(n)\n",
    "    \n",
    "    # set canvas size\n",
    "    height = n * 12\n",
    "    width = height * 2.5\n",
    "    \n",
    "    # set start coords\n",
    "    d = draw.Drawing(width, height, origin=(-25, -height/2))\n",
    "    #d = draw.Drawing(width, height, origin='center')\n",
    "\n",
    "    for i, j in enumerate(seq[:-1]):\n",
    "        '''\n",
    "        Takes the recaman sequences previously generated as seq,\n",
    "        Draws each arc\n",
    "        '''\n",
    "        # radius is given by i\n",
    "        r = (i + 1) * 10/2\n",
    "        # center coord is given by element i and i+1 position\n",
    "        cx = ((seq[i] + seq[i+1])/2 * 10)\n",
    "        \n",
    "        # to alternate top and bottom arcs, check if it is even or odd\n",
    "        if i % 2 is 0:\n",
    "            d.append(draw.Arc(cx, 0, r, 180, 0, stroke='black', stroke_width=1, fill='none', fill_opacity=0.2))\n",
    "        else:\n",
    "            d.append(draw.Arc(cx, 0, r, 0, 180, stroke='black', stroke_width=1, fill='none', fill_opacity=0.2))\n",
    "        \n",
    "        d.setPixelScale(2)\n",
    "        \n",
    "        # to save file\n",
    "        d.saveSvg('./figs/recaman_circle_{}.svg'.format(n))\n",
    "        d.savePng('./figs/recaman_circle_{}.png'.format(n))\n",
    "\n",
    "        # Display in iPython notebook\n",
    "        d.rasterize()\n",
    "    \n",
    "    return d"
   ]
  },
  {
   "cell_type": "markdown",
   "metadata": {},
   "source": [
    "## Use"
   ]
  },
  {
   "cell_type": "code",
   "execution_count": 12,
   "metadata": {},
   "outputs": [
    {
     "name": "stdout",
     "output_type": "stream",
     "text": [
      "[0, 1, 3, 6, 2, 7, 13, 20, 12, 21, 11, 22, 10, 23, 9, 24, 8, 25, 43, 62, 42, 63, 41, 18, 42, 17, 43, 16, 44, 15, 45, 14, 46, 79, 113, 78, 114, 77, 39, 78, 38, 79, 37, 80, 36, 81, 35, 82, 34, 83, 33, 84, 32, 85, 31, 86, 30, 87, 29, 88, 28, 89, 27, 90, 26, 91]\n"
     ]
    }
   ],
   "source": [
    "print(recaman_seq(65))"
   ]
  },
  {
   "cell_type": "code",
   "execution_count": 13,
   "metadata": {},
   "outputs": [
    {
     "data": {
      "image/svg+xml": [
       "<?xml version=\"1.0\" encoding=\"UTF-8\"?>\n",
       "<svg xmlns=\"http://www.w3.org/2000/svg\" xmlns:xlink=\"http://www.w3.org/1999/xlink\"\n",
       "     width=\"1500.0\" height=\"600\" viewBox=\"-25 -150.0 750.0 300\">\n",
       "<defs>\n",
       "</defs>\n",
       "<path d=\"M0.0,-6.123233995736766e-16 A5.0,5.0,0,0,0,10.0,-0.0\" stroke=\"black\" stroke-width=\"1\" fill=\"none\" fill-opacity=\"0.2\" />\n",
       "<path d=\"M30.0,-0.0 A10.0,10.0,0,0,0,10.0,-1.2246467991473533e-15\" stroke=\"black\" stroke-width=\"1\" fill=\"none\" fill-opacity=\"0.2\" />\n",
       "<path d=\"M30.0,-1.83697019872103e-15 A15.0,15.0,0,0,0,60.0,-0.0\" stroke=\"black\" stroke-width=\"1\" fill=\"none\" fill-opacity=\"0.2\" />\n",
       "<path d=\"M60.0,-0.0 A20.0,20.0,0,0,0,20.0,-2.4492935982947065e-15\" stroke=\"black\" stroke-width=\"1\" fill=\"none\" fill-opacity=\"0.2\" />\n",
       "<path d=\"M20.0,-3.061616997868383e-15 A25.0,25.0,0,0,0,70.0,-0.0\" stroke=\"black\" stroke-width=\"1\" fill=\"none\" fill-opacity=\"0.2\" />\n",
       "<path d=\"M130.0,-0.0 A30.0,30.0,0,0,0,70.0,-3.67394039744206e-15\" stroke=\"black\" stroke-width=\"1\" fill=\"none\" fill-opacity=\"0.2\" />\n",
       "<path d=\"M130.0,-4.2862637970157365e-15 A35.0,35.0,0,0,0,200.0,-0.0\" stroke=\"black\" stroke-width=\"1\" fill=\"none\" fill-opacity=\"0.2\" />\n",
       "<path d=\"M200.0,-0.0 A40.0,40.0,0,0,0,120.0,-4.898587196589413e-15\" stroke=\"black\" stroke-width=\"1\" fill=\"none\" fill-opacity=\"0.2\" />\n",
       "<path d=\"M120.0,-5.5109105961630896e-15 A45.0,45.0,0,0,0,210.0,-0.0\" stroke=\"black\" stroke-width=\"1\" fill=\"none\" fill-opacity=\"0.2\" />\n",
       "<path d=\"M210.0,-0.0 A50.0,50.0,0,0,0,110.0,-6.123233995736766e-15\" stroke=\"black\" stroke-width=\"1\" fill=\"none\" fill-opacity=\"0.2\" />\n",
       "<path d=\"M110.0,-6.735557395310443e-15 A55.0,55.0,0,0,0,220.0,-0.0\" stroke=\"black\" stroke-width=\"1\" fill=\"none\" fill-opacity=\"0.2\" />\n",
       "<path d=\"M220.0,-0.0 A60.0,60.0,0,0,0,100.0,-7.34788079488412e-15\" stroke=\"black\" stroke-width=\"1\" fill=\"none\" fill-opacity=\"0.2\" />\n",
       "<path d=\"M100.0,-7.960204194457796e-15 A65.0,65.0,0,0,0,230.0,-0.0\" stroke=\"black\" stroke-width=\"1\" fill=\"none\" fill-opacity=\"0.2\" />\n",
       "<path d=\"M230.0,-0.0 A70.0,70.0,0,0,0,90.0,-8.572527594031473e-15\" stroke=\"black\" stroke-width=\"1\" fill=\"none\" fill-opacity=\"0.2\" />\n",
       "<path d=\"M90.0,-9.184850993605149e-15 A75.0,75.0,0,0,0,240.0,-0.0\" stroke=\"black\" stroke-width=\"1\" fill=\"none\" fill-opacity=\"0.2\" />\n",
       "<path d=\"M240.0,-0.0 A80.0,80.0,0,0,0,80.0,-9.797174393178826e-15\" stroke=\"black\" stroke-width=\"1\" fill=\"none\" fill-opacity=\"0.2\" />\n",
       "<path d=\"M80.0,-1.0409497792752502e-14 A85.0,85.0,0,0,0,250.0,-0.0\" stroke=\"black\" stroke-width=\"1\" fill=\"none\" fill-opacity=\"0.2\" />\n",
       "<path d=\"M430.0,-0.0 A90.0,90.0,0,0,0,250.0,-1.1021821192326179e-14\" stroke=\"black\" stroke-width=\"1\" fill=\"none\" fill-opacity=\"0.2\" />\n",
       "<path d=\"M430.0,-1.1634144591899855e-14 A95.0,95.0,0,0,0,620.0,-0.0\" stroke=\"black\" stroke-width=\"1\" fill=\"none\" fill-opacity=\"0.2\" />\n",
       "<path d=\"M620.0,-0.0 A100.0,100.0,0,0,0,420.0,-1.2246467991473532e-14\" stroke=\"black\" stroke-width=\"1\" fill=\"none\" fill-opacity=\"0.2\" />\n",
       "<path d=\"M420.0,-1.2858791391047208e-14 A105.0,105.0,0,0,0,630.0,-0.0\" stroke=\"black\" stroke-width=\"1\" fill=\"none\" fill-opacity=\"0.2\" />\n",
       "<path d=\"M630.0,-0.0 A110.0,110.0,0,0,0,410.0,-1.3471114790620885e-14\" stroke=\"black\" stroke-width=\"1\" fill=\"none\" fill-opacity=\"0.2\" />\n",
       "<path d=\"M180.0,-1.4083438190194563e-14 A115.0,115.0,0,0,0,410.0,-0.0\" stroke=\"black\" stroke-width=\"1\" fill=\"none\" fill-opacity=\"0.2\" />\n",
       "<path d=\"M420.0,-0.0 A120.0,120.0,0,0,0,180.0,-1.469576158976824e-14\" stroke=\"black\" stroke-width=\"1\" fill=\"none\" fill-opacity=\"0.2\" />\n",
       "<path d=\"M170.0,-1.5308084989341916e-14 A125.0,125.0,0,0,0,420.0,-0.0\" stroke=\"black\" stroke-width=\"1\" fill=\"none\" fill-opacity=\"0.2\" />\n",
       "</svg>"
      ],
      "text/plain": [
       "<drawSvg.drawing.Drawing at 0x1125d2cc0>"
      ]
     },
     "execution_count": 13,
     "metadata": {},
     "output_type": "execute_result"
    }
   ],
   "source": [
    "draw_recaman_circle(25)"
   ]
  },
  {
   "cell_type": "code",
   "execution_count": null,
   "metadata": {},
   "outputs": [],
   "source": []
  }
 ],
 "metadata": {
  "kernelspec": {
   "display_name": "Python 3",
   "language": "python",
   "name": "python3"
  },
  "language_info": {
   "codemirror_mode": {
    "name": "ipython",
    "version": 3
   },
   "file_extension": ".py",
   "mimetype": "text/x-python",
   "name": "python",
   "nbconvert_exporter": "python",
   "pygments_lexer": "ipython3",
   "version": "3.6.4"
  }
 },
 "nbformat": 4,
 "nbformat_minor": 2
}
